{
 "cells": [
  {
   "cell_type": "code",
   "execution_count": 3,
   "metadata": {},
   "outputs": [
    {
     "name": "stdout",
     "output_type": "stream",
     "text": [
      "115\n"
     ]
    }
   ],
   "source": [
    "#1.\tWrite a Python Program to find sum of array?\n",
    "arr = [1,2,3,4,5,100]\n",
    "sum = 0\n",
    "for i in range(0,len(arr)):\n",
    "    sum = sum+arr[i]\n",
    "print(sum)"
   ]
  },
  {
   "cell_type": "code",
   "execution_count": 31,
   "metadata": {},
   "outputs": [
    {
     "name": "stdout",
     "output_type": "stream",
     "text": [
      "1000\n"
     ]
    }
   ],
   "source": [
    "#2.\tWrite a Python Program to find largest element in an array?\n",
    "arr = [1,200,301,4,5,100,1000]\n",
    "largest = 0\n",
    "for i in range(0,len(arr)):\n",
    "    for j in range(0,len(arr)):\n",
    "        if(largest<=arr[j]):\n",
    "            largest = arr[j]\n",
    "print(largest)\n"
   ]
  },
  {
   "cell_type": "code",
   "execution_count": 40,
   "metadata": {},
   "outputs": [
    {
     "name": "stdout",
     "output_type": "stream",
     "text": [
      "Original array: \n",
      "1\n",
      "2\n",
      "3\n",
      "4\n",
      "5\n",
      "\n",
      "Array after left rotation: \n",
      "4\n",
      "5\n",
      "1\n",
      "2\n",
      "3\n"
     ]
    }
   ],
   "source": [
    "#3.\tWrite a Python Program for array rotation?\n",
    "#Initialize array     \n",
    "arr = [1, 2, 3, 4, 5];     \n",
    "#n determine the number of times an array should be rotated    \n",
    "n = 3;    \n",
    "     \n",
    "#Displays original array    \n",
    "print(\"Original array: \");    \n",
    "for i in range(0, len(arr)):    \n",
    "    print(arr[i])     \n",
    "     \n",
    "for i in range(0, n):    \n",
    "     \n",
    "    first = arr[0];    \n",
    "        \n",
    "    for j in range(0, len(arr)-1):       \n",
    "        arr[j] = arr[j+1];    \n",
    "                \n",
    "    arr[len(arr)-1] = first;    \n",
    "     \n",
    "print();    \n",
    "     \n",
    "#Displays resulting array after rotation    \n",
    "print(\"Array after left rotation: \");    \n",
    "for i in range(0, len(arr)):    \n",
    "    print(arr[i]),    "
   ]
  },
  {
   "cell_type": "code",
   "execution_count": 54,
   "metadata": {},
   "outputs": [
    {
     "name": "stdout",
     "output_type": "stream",
     "text": [
      "4 5 6 7 1 2 3 "
     ]
    }
   ],
   "source": [
    "#4.\tWrite a Python Program to Split the array and add the first part to the end?\n",
    "def split(a,p,l):\n",
    "    b = a[:l]\n",
    "    return (a[l::]+b[::])\n",
    "\n",
    "arr = [1,2,3,4,5,6,7]\n",
    "position = 3\n",
    "k = len(arr)\n",
    "arr = split(arr,k,position)\n",
    "for i in range(0, k): \n",
    "    print(arr[i], end = ' ')\n",
    "\n"
   ]
  },
  {
   "cell_type": "code",
   "execution_count": 58,
   "metadata": {},
   "outputs": [
    {
     "name": "stdout",
     "output_type": "stream",
     "text": [
      "Not a monotic\n"
     ]
    }
   ],
   "source": [
    "#5.\tWrite a Python Program to check if given array is Monotonic?\n",
    "a = [1,2,1,4,5]\n",
    "count =1\n",
    "count1 =1\n",
    "for i in range (0,len(a)-1):\n",
    "    if (a[i]>=a[i+1]):\n",
    "        count+=1\n",
    "    if (a[i]<=a[i+1]):\n",
    "        count1+=1\n",
    "if (count == len(a)):\n",
    "    print(\"monotic decreasing\")\n",
    "elif (count1 == len(a)):\n",
    "    print(\"monotic increasing\")\n",
    "else:\n",
    "    print(\"Not a monotic\")"
   ]
  },
  {
   "cell_type": "code",
   "execution_count": null,
   "metadata": {},
   "outputs": [],
   "source": []
  }
 ],
 "metadata": {
  "kernelspec": {
   "display_name": "Python 3",
   "language": "python",
   "name": "python3"
  },
  "language_info": {
   "codemirror_mode": {
    "name": "ipython",
    "version": 3
   },
   "file_extension": ".py",
   "mimetype": "text/x-python",
   "name": "python",
   "nbconvert_exporter": "python",
   "pygments_lexer": "ipython3",
   "version": "3.8.5"
  }
 },
 "nbformat": 4,
 "nbformat_minor": 4
}
