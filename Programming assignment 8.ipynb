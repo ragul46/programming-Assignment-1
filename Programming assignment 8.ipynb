{
 "cells": [
  {
   "cell_type": "code",
   "execution_count": 18,
   "metadata": {},
   "outputs": [
    {
     "name": "stdout",
     "output_type": "stream",
     "text": [
      "[[10, 10, 10], [10, 7, 20], [8, 10, 10]]\n"
     ]
    }
   ],
   "source": [
    "X = [[1,2,3],\n",
    "     [4 ,5,6],\n",
    "     [7 ,8,9]]\n",
    " \n",
    "Y = [[9,8,7],\n",
    "    [6,2,14],\n",
    "    [1,2,1]]\n",
    "\n",
    "result = [[0,0,0],\n",
    "        [0,0,0],\n",
    "        [0,0,0]]\n",
    " \n",
    "\n",
    "for i in range (len(X)):\n",
    "    for j in range(len(X[0])):\n",
    "        result[i][j] = X[i][j]+Y[i][j]\n",
    "for i\n",
    "print(result)"
   ]
  },
  {
   "cell_type": "code",
   "execution_count": 21,
   "metadata": {},
   "outputs": [
    {
     "name": "stdout",
     "output_type": "stream",
     "text": [
      "[9, 16, 21]\n",
      "[24, 10, 84]\n",
      "[7, 16, 9]\n"
     ]
    }
   ],
   "source": [
    "X = [[1,2,3],\n",
    "     [4 ,5,6],\n",
    "     [7 ,8,9]]\n",
    " \n",
    "Y = [[9,8,7],\n",
    "    [6,2,14],\n",
    "    [1,2,1]]\n",
    "\n",
    "result = [[0,0,0],\n",
    "        [0,0,0],\n",
    "        [0,0,0]]\n",
    " \n",
    "\n",
    "for i in range (len(X)):\n",
    "    for j in range(len(X[0])):\n",
    "        result[i][j] = X[i][j]*Y[i][j]\n",
    "for i in result:\n",
    "    print(i)"
   ]
  },
  {
   "cell_type": "code",
   "execution_count": 25,
   "metadata": {},
   "outputs": [
    {
     "name": "stdout",
     "output_type": "stream",
     "text": [
      "Matrix Before Transpose\n",
      "[1, 2, 3]\n",
      "[4, 5, 6]\n",
      "[7, 8, 9]\n",
      "Matrix after transpose\n",
      "[1, 4, 7]\n",
      "[2, 5, 8]\n",
      "[3, 6, 9]\n"
     ]
    }
   ],
   "source": [
    "#3.\tWrite a Python Program to Transpose a Matrix?\n",
    "X = [[1,2,3],\n",
    "     [4 ,5,6],\n",
    "     [7 ,8,9]]\n",
    " \n",
    "print(\"Matrix Before Transpose\")\n",
    "for i in X:\n",
    "    print(i)\n",
    "\n",
    "for i in range (len(X)):\n",
    "    for j in range(len(X[0])):\n",
    "        result[j][i] = X[i][j]\n",
    "print(\"Matrix after transpose\")\n",
    "for i in result:\n",
    "    print(i)"
   ]
  },
  {
   "cell_type": "code",
   "execution_count": 35,
   "metadata": {},
   "outputs": [
    {
     "name": "stdout",
     "output_type": "stream",
     "text": [
      "Enter a string: gsh dgagdad dadabdjajdhb\n",
      "The word list once after splited ['dadabdjajdhb', 'dgagdad', 'gsh']\n",
      "dadabdjajdhb\n",
      "dgagdad\n",
      "gsh\n"
     ]
    }
   ],
   "source": [
    "#4.\tWrite a Python Program to Sort Words in Alphabetic Order?\n",
    "my_str = input(\"Enter a string: \")\n",
    "\n",
    "words = my_str. split()\n",
    "\n",
    "words. sort()\n",
    "print(\"The word list once after splited\",words)\n",
    "\n",
    "for word in words:\n",
    "    print(word)"
   ]
  },
  {
   "cell_type": "code",
   "execution_count": 28,
   "metadata": {},
   "outputs": [
    {
     "name": "stdout",
     "output_type": "stream",
     "text": [
      "Hello he said and went\n"
     ]
    }
   ],
   "source": [
    "#5.\tWrite a Python Program to Remove Punctuation From a String?\n",
    "# define punctuation\n",
    "punctuations = '''!()-[]{};:'\"\\,<>./?@#$%^&*_~'''\n",
    "\n",
    "my_str = \"Hello!!!, he said ---and went.\"\n",
    "\n",
    "\n",
    "no_punct = \"\"\n",
    "for char in my_str:\n",
    "   if char not in punctuations:\n",
    "       no_punct = no_punct + char\n",
    "\n",
    "# display the unpunctuated string\n",
    "print(no_punct)"
   ]
  },
  {
   "cell_type": "code",
   "execution_count": null,
   "metadata": {},
   "outputs": [],
   "source": []
  }
 ],
 "metadata": {
  "kernelspec": {
   "display_name": "Python 3",
   "language": "python",
   "name": "python3"
  },
  "language_info": {
   "codemirror_mode": {
    "name": "ipython",
    "version": 3
   },
   "file_extension": ".py",
   "mimetype": "text/x-python",
   "name": "python",
   "nbconvert_exporter": "python",
   "pygments_lexer": "ipython3",
   "version": "3.8.5"
  }
 },
 "nbformat": 4,
 "nbformat_minor": 4
}
