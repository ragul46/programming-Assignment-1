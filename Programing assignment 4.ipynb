{
 "cells": [
  {
   "cell_type": "code",
   "execution_count": 1,
   "metadata": {},
   "outputs": [
    {
     "name": "stdout",
     "output_type": "stream",
     "text": [
      "Enter the number10\n",
      "The Factorial is 3628800\n"
     ]
    }
   ],
   "source": [
    "N  = int(input(\"Enter the number\"))\n",
    "sum = 1\n",
    "for i in range(1,N+1):\n",
    "    sum = sum*i\n",
    "print(\"The Factorial is\",sum)"
   ]
  },
  {
   "cell_type": "code",
   "execution_count": 6,
   "metadata": {},
   "outputs": [
    {
     "name": "stdout",
     "output_type": "stream",
     "text": [
      "Enter the number370\n",
      "amstrong\n"
     ]
    }
   ],
   "source": [
    "N  = int(input(\"Enter the number\"))\n",
    "p = N\n",
    "count = 0\n",
    "count1 = 0\n",
    "while(N>0):\n",
    "        count1 = N%10\n",
    "        N = N//10\n",
    "        count = count+count1**3;\n",
    "       \n",
    "if(p == count):\n",
    "    print(\"amstrong\")\n",
    "else:\n",
    "    print(\"NOT\")\n",
    "\n",
    "        \n"
   ]
  },
  {
   "cell_type": "code",
   "execution_count": 7,
   "metadata": {},
   "outputs": [
    {
     "name": "stdout",
     "output_type": "stream",
     "text": [
      "Enter the number: 3\n",
      "1 * 3 = 3\n",
      "2 * 3 = 6\n",
      "3 * 3 = 9\n",
      "4 * 3 = 12\n",
      "5 * 3 = 15\n",
      "6 * 3 = 18\n",
      "7 * 3 = 21\n",
      "8 * 3 = 24\n",
      "9 * 3 = 27\n",
      "10 * 3 = 30\n"
     ]
    }
   ],
   "source": [
    "N = int(input(\"Enter the number: \"))\n",
    "\n",
    "for i in range(1,11):\n",
    "    print(\"{} * {} = {}\".format(i,N,i*N))"
   ]
  },
  {
   "cell_type": "code",
   "execution_count": 8,
   "metadata": {},
   "outputs": [
    {
     "name": "stdout",
     "output_type": "stream",
     "text": [
      "Enter the number: 5\n",
      "0\n",
      "1\n",
      "1\n",
      "2\n",
      "3\n",
      "5\n",
      "8\n",
      "13\n",
      "21\n",
      "34\n"
     ]
    }
   ],
   "source": [
    "N = int(input(\"Enter the number: \"))\n",
    "a = 0\n",
    "b = 1\n",
    "print(a)\n",
    "print(b)\n",
    "for i in range(2,N+1):\n",
    "    a = a+b\n",
    "    b = a+b\n",
    "    print(a)\n",
    "    print(b)"
   ]
  },
  {
   "cell_type": "code",
   "execution_count": 5,
   "metadata": {},
   "outputs": [
    {
     "name": "stdout",
     "output_type": "stream",
     "text": [
      "Enter the number370\n",
      "Enter the number375\n",
      "The number is amstrong 370\n",
      "The number is amstrong 371\n"
     ]
    }
   ],
   "source": [
    "N  = int(input(\"Enter the number\"))\n",
    "P  = int(input(\"Enter the number\"))\n",
    "\n",
    "count = 0\n",
    "count1 = 0\n",
    "\n",
    "for i in range (N,P+1):\n",
    "    count = 0\n",
    "    count1 = 0\n",
    "    k = i\n",
    "    while(i>0):\n",
    "        count1 = i%10\n",
    "        i = i//10\n",
    "        count = count+count1**3;\n",
    "    if (count==k):\n",
    "        print(\"The number is amstrong\",k)\n",
    "       \n",
    "    "
   ]
  },
  {
   "cell_type": "code",
   "execution_count": 11,
   "metadata": {},
   "outputs": [
    {
     "name": "stdout",
     "output_type": "stream",
     "text": [
      "Enter the number10\n",
      "55\n"
     ]
    }
   ],
   "source": [
    "N  = int(input(\"Enter the number\"))\n",
    "sum = 0\n",
    "for i in range(0,N+1):\n",
    "    sum = sum+i\n",
    "print(sum)\n",
    "    "
   ]
  },
  {
   "cell_type": "code",
   "execution_count": null,
   "metadata": {},
   "outputs": [],
   "source": []
  }
 ],
 "metadata": {
  "kernelspec": {
   "display_name": "Python 3",
   "language": "python",
   "name": "python3"
  },
  "language_info": {
   "codemirror_mode": {
    "name": "ipython",
    "version": 3
   },
   "file_extension": ".py",
   "mimetype": "text/x-python",
   "name": "python",
   "nbconvert_exporter": "python",
   "pygments_lexer": "ipython3",
   "version": "3.8.5"
  }
 },
 "nbformat": 4,
 "nbformat_minor": 4
}
