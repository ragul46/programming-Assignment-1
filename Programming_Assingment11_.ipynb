{
 "cells": [
  {
   "cell_type": "code",
   "execution_count": 7,
   "metadata": {},
   "outputs": [
    {
     "name": "stdout",
     "output_type": "stream",
     "text": [
      "['ragul', 'want', 'data', 'scientist']\n"
     ]
    }
   ],
   "source": [
    "#1.\tWrite a Python program to find words which are greater than given length k?\n",
    "def k_fun(str,k):\n",
    "    str1 = []\n",
    "    text = str.split(\" \")\n",
    "    for i in text:\n",
    "        if len(i) > k:\n",
    "            str1.append(i)\n",
    "    return str1\n",
    "k = 3\n",
    "str = \"ragul want to be the data scientist\"\n",
    "print(k_fun(str,k))"
   ]
  },
  {
   "cell_type": "code",
   "execution_count": 14,
   "metadata": {},
   "outputs": [
    {
     "name": "stdout",
     "output_type": "stream",
     "text": [
      "pleas tell me about you\n"
     ]
    }
   ],
   "source": [
    "#2.\tWrite a Python program for removing i-th character from a string?\n",
    "def remove(k,str):\n",
    "    str1 = \"\"\n",
    "    for i in range (len(str)):\n",
    "        if (i == k):\n",
    "            continue\n",
    "        else:\n",
    "            str1 = str1+str[i]\n",
    "    return str1\n",
    "\n",
    "\n",
    "k = 5\n",
    "str = \"please tell me about you\"\n",
    "print(remove(k,str))"
   ]
  },
  {
   "cell_type": "code",
   "execution_count": 18,
   "metadata": {},
   "outputs": [
    {
     "name": "stdout",
     "output_type": "stream",
     "text": [
      "['i', 'want', 'to', 'be', 'the', 'data', 'scientist']\n",
      "i-want-to-be-the-data-scientist\n"
     ]
    }
   ],
   "source": [
    "#3.\tWrite a Python program to split and join a string?\n",
    "def split_fun(str):\n",
    "    k = str.split(\" \")\n",
    "    return k\n",
    "def string_join(list_string):\n",
    "    p = '-'.join(list_string)\n",
    "    return p\n",
    "str = \"i want to be the data scientist\"\n",
    "list_string = split_fun(str)\n",
    "print(list_string)\n",
    "final = string_join(list_string)\n",
    "print(final)"
   ]
  },
  {
   "cell_type": "code",
   "execution_count": 22,
   "metadata": {},
   "outputs": [
    {
     "name": "stdout",
     "output_type": "stream",
     "text": [
      "Yes\n"
     ]
    }
   ],
   "source": [
    "#4.\tWrite a Python to check if a given string is binary string or not?\n",
    "def check(string) :\n",
    "\n",
    "    p = set(string)\n",
    "\n",
    "    s = {'0', '1'}\n",
    "\n",
    "    if s == p or p == {'0'} or p == {'1'}:\n",
    "        print(\"Yes\")\n",
    "    else :\n",
    "        print(\"No\")\n",
    "\n",
    "string = \"101010000111\"\n",
    "\n",
    "# function calling\n",
    "check(string)\n"
   ]
  },
  {
   "cell_type": "code",
   "execution_count": 29,
   "metadata": {},
   "outputs": [
    {
     "name": "stdout",
     "output_type": "stream",
     "text": [
      "I\n",
      "like\n",
      "she\n"
     ]
    }
   ],
   "source": [
    "#5.\tWrite a Python program to find uncommon words from two Strings?\n",
    "\n",
    "str1  = \"I like want to be the data scientist\"\n",
    "str2 = \"be she want to be the data scientist\"\n",
    "k = str1.split(\" \")\n",
    "p = str2.split(\" \")\n",
    "#missing words in first string\n",
    "for i in range(len(k)):\n",
    "    count = 0\n",
    "    for j in range(len(p)):\n",
    "        if (k[i] == p[j]):\n",
    "            count = 1\n",
    "    if(count == 0):\n",
    "        print(k[i])\n",
    "#missing words in second string\n",
    "for i in range(len(p)):\n",
    "    count = 0\n",
    "    for j in range(len(k)):\n",
    "        if (p[i] == k[j]):\n",
    "            count = 1\n",
    "    if(count == 0):\n",
    "        print(p[i])"
   ]
  },
  {
   "cell_type": "code",
   "execution_count": 46,
   "metadata": {},
   "outputs": [
    {
     "name": "stdout",
     "output_type": "stream",
     "text": [
      "['i', 'w', 'i', 'l', 'l', 'c', 'o', 'm', 'e', 'b', 'a', 'c', 'k', 't', 'o', 'm', 'm', 'o', 'r', 'o', 'w', 'm', 'o', 'r', 'n', 'i', 'n', 'g', 'i', 'i', 'l', 'i', 'e', 't', 'h', 'e', 'm', 'o', 'n', 'e', 'o', 'c', 'e', 'i', 'c', 'o', 'm', 'e', 'r', 't']\n"
     ]
    }
   ],
   "source": [
    "#6.\tWrite a Python to find all duplicate characters in string?\n",
    "str = \"i will come back tommorow morning i will give the money once i come back from the trip\"\n",
    "\n",
    "pre_final = []\n",
    "final = []\n",
    "for i in range(len(str)):\n",
    "    count = 0\n",
    "    for j in range(i+1,len(str)):\n",
    "        if(str[i] == str[j]):\n",
    "            if(i == j or str[i] == \" \"):\n",
    "                continue\n",
    "            else:\n",
    "                count = 1\n",
    "    if(count == 1):\n",
    "        pre_final.append(str[i])\n",
    "        \n",
    "print(pre_final)"
   ]
  },
  {
   "cell_type": "code",
   "execution_count": 63,
   "metadata": {},
   "outputs": [
    {
     "name": "stdout",
     "output_type": "stream",
     "text": [
      "String is accepted\n"
     ]
    }
   ],
   "source": [
    "##7.\tWrite a Python Program to check if a string contains any special character?\n",
    "import re\n",
    "\n",
    "def run(string):\n",
    "\n",
    "    regex = re.compile('[@_!#$%^&*()<>?/\\|}{~:]')\n",
    "\n",
    "    if(regex.search(string) == None):\n",
    "        print(\"String is accepted\")\n",
    "\n",
    "    else:\n",
    "        print(\"String is not accepted.\")\n",
    "\n",
    "string = \"GeeksForGeeks\"\n",
    "\n",
    "run(string)\n"
   ]
  },
  {
   "cell_type": "code",
   "execution_count": null,
   "metadata": {},
   "outputs": [],
   "source": []
  }
 ],
 "metadata": {
  "kernelspec": {
   "display_name": "Python 3",
   "language": "python",
   "name": "python3"
  },
  "language_info": {
   "codemirror_mode": {
    "name": "ipython",
    "version": 3
   },
   "file_extension": ".py",
   "mimetype": "text/x-python",
   "name": "python",
   "nbconvert_exporter": "python",
   "pygments_lexer": "ipython3",
   "version": "3.8.5"
  }
 },
 "nbformat": 4,
 "nbformat_minor": 4
}
