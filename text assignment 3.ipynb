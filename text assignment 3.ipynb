{
 "cells": [
  {
   "cell_type": "code",
   "execution_count": null,
   "metadata": {},
   "outputs": [],
   "source": [
    "#Why are functions advantageous to have in your programs? \n",
    "'''\n",
    "Functions reduce the need for duplicate code. This makes programs shorter, easier to read, and easier to update. ... \n",
    "A function call is what moves the program execution into the function, \n",
    "and the function call evaluates to the function's return value.\n",
    "'''"
   ]
  },
  {
   "cell_type": "code",
   "execution_count": null,
   "metadata": {},
   "outputs": [],
   "source": [
    " #2) When does the code in a function run: when it's specified or when it's called?\n",
    "'''\n",
    "  The function only run when its called\n",
    "'''"
   ]
  },
  {
   "cell_type": "code",
   "execution_count": null,
   "metadata": {},
   "outputs": [],
   "source": [
    "#3. What statement creates a function?\n",
    "'''\n",
    "def statement\n",
    "'''"
   ]
  },
  {
   "cell_type": "code",
   "execution_count": null,
   "metadata": {},
   "outputs": [],
   "source": [
    "#5. How many global scopes are there in a Python program? How many local scopes?\n",
    "'''\n",
    "In Python, a variable declared outside of the function or in global scope is known as a global variable.\n",
    "only one global scope available in python\n",
    "'''"
   ]
  },
  {
   "cell_type": "code",
   "execution_count": null,
   "metadata": {},
   "outputs": [],
   "source": [
    "#4. What is the difference between a function and a function call?\n",
    "'''\n",
    "A function is a block of code that does a particular operation and returns a result. \n",
    "It usually accepts inputs as parameters and returns a result. ... A function call is the code used to pass control to a function.\n",
    "'''"
   ]
  },
  {
   "cell_type": "code",
   "execution_count": 2,
   "metadata": {},
   "outputs": [
    {
     "data": {
      "text/plain": [
       "'\\nThe variable y only exists while the function is being executed — we call this its lifetime. When the execution of the function terminates (returns), \\nthe local variables are destroyed.\\n\\n\\n'"
      ]
     },
     "execution_count": 2,
     "metadata": {},
     "output_type": "execute_result"
    }
   ],
   "source": [
    "#6. What happens to variables in a local scope when the function call returns?\n",
    "'''\n",
    "The variable y only exists while the function is being executed — we call this its lifetime. When the execution of the function terminates (returns), \n",
    "the local variables are destroyed.\n",
    "\n",
    "\n",
    "'''"
   ]
  },
  {
   "cell_type": "code",
   "execution_count": null,
   "metadata": {},
   "outputs": [],
   "source": [
    "#7. What is the concept of a return value? Is it possible to have a return value in an expression?\n",
    "'''\n",
    "The return is used return the values after the function being executed and un successfully. yes its possible to ratun have an expression\n",
    "'''"
   ]
  },
  {
   "cell_type": "code",
   "execution_count": null,
   "metadata": {},
   "outputs": [],
   "source": [
    "#10. What is the data type of None?\n",
    "'''\n",
    "The None keyword is used to define a null value, or no value at all.\n",
    "'''"
   ]
  },
  {
   "cell_type": "code",
   "execution_count": null,
   "metadata": {},
   "outputs": [],
   "source": [
    "#11. What does the sentence import areallyourpetsnamederic do?\n",
    "'''\n",
    "That import statement imports a module named areallyourpetsnamederic .\n",
    "'''"
   ]
  },
  {
   "cell_type": "code",
   "execution_count": null,
   "metadata": {},
   "outputs": [],
   "source": [
    "#12. If you had a bacon() feature in a spam module, what would you call it after importing spam?\n",
    "'''\n",
    "This function can be called with spam. bacon().\n",
    "'''"
   ]
  },
  {
   "cell_type": "code",
   "execution_count": null,
   "metadata": {},
   "outputs": [],
   "source": [
    "#13. What can you do to save a programme from crashing if it encounters an error?\n",
    "'''\n",
    "If an error occurs in a program, we don't want the program to unexpectedly crash on the user. \n",
    "Instead, error handling can be used to notify the user of why the error occurred and gracefully exit the process that caused the error.\n",
    "'''"
   ]
  },
  {
   "cell_type": "code",
   "execution_count": null,
   "metadata": {},
   "outputs": [],
   "source": [
    "#14. What is the purpose of the try clause? What is the purpose of the except clause?\n",
    "'''\n",
    "we are running our code in try block if any error found in try block we just handling that error in except block\n",
    "'''"
   ]
  }
 ],
 "metadata": {
  "kernelspec": {
   "display_name": "Python 3",
   "language": "python",
   "name": "python3"
  },
  "language_info": {
   "codemirror_mode": {
    "name": "ipython",
    "version": 3
   },
   "file_extension": ".py",
   "mimetype": "text/x-python",
   "name": "python",
   "nbconvert_exporter": "python",
   "pygments_lexer": "ipython3",
   "version": "3.8.5"
  }
 },
 "nbformat": 4,
 "nbformat_minor": 4
}
