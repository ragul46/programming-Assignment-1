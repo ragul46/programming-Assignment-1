{
 "cells": [
  {
   "cell_type": "code",
   "execution_count": 5,
   "metadata": {},
   "outputs": [
    {
     "name": "stdout",
     "output_type": "stream",
     "text": [
      "15\n"
     ]
    }
   ],
   "source": [
    "#1.\tWrite a Python program to find sum of elements in list?\n",
    "\n",
    "def sum(n):\n",
    "    s = 0\n",
    "    for i in range(len(l)):\n",
    "        s = s+l[i]\n",
    "    return s\n",
    "l = [1,2,3,4,5] \n",
    "\n",
    "result = sum(l)\n",
    "print(result)\n"
   ]
  },
  {
   "cell_type": "code",
   "execution_count": 7,
   "metadata": {},
   "outputs": [
    {
     "name": "stdout",
     "output_type": "stream",
     "text": [
      "120\n"
     ]
    }
   ],
   "source": [
    "#2.\tWrite a Python program to  Multiply all numbers in the list?\n",
    "def sum(n):\n",
    "    s = 1\n",
    "    for i in range(len(l)):\n",
    "        s = s*l[i]\n",
    "    return s\n",
    "l = [1,2,3,4,5] \n",
    "\n",
    "result = sum(l)\n",
    "print(result)"
   ]
  },
  {
   "cell_type": "code",
   "execution_count": 41,
   "metadata": {},
   "outputs": [
    {
     "name": "stdout",
     "output_type": "stream",
     "text": [
      "[5, 10, 40, 100, 390]\n",
      "Smallest numebr in the list: 5\n"
     ]
    }
   ],
   "source": [
    "#3.\tWrite a Python program to find smallest number in a list?\n",
    "def small(n):\n",
    "    s = l[0]\n",
    "    for i in range(len(l)):\n",
    "        for j in range(len(l)):\n",
    "            if(l[i]<l[j]):\n",
    "                temp = l[i]\n",
    "                l[i] = l[j]\n",
    "                l[j] = temp\n",
    "    return l\n",
    "l = [10,100,390,40,5] \n",
    "result = small(l)\n",
    "print(result)\n",
    "print(\"Smallest numebr in the list:\",l[0])"
   ]
  },
  {
   "cell_type": "code",
   "execution_count": 43,
   "metadata": {},
   "outputs": [
    {
     "name": "stdout",
     "output_type": "stream",
     "text": [
      "[390, 100, 40, 10, 5]\n",
      "largest numebr in the list: 390\n"
     ]
    }
   ],
   "source": [
    "#4.\tWrite a Python program to find largest number in a list?\n",
    "def small(n):\n",
    "    s = l[0]\n",
    "    for i in range(len(l)):\n",
    "        for j in range(len(l)):\n",
    "            if(l[i]>l[j]):\n",
    "                temp = l[i]\n",
    "                l[i] = l[j]\n",
    "                l[j] = temp\n",
    "    return l\n",
    "l = [10,100,390,40,5] \n",
    "result = small(l)\n",
    "print(result)\n",
    "print(\"largest numebr in the list:\",l[0])"
   ]
  },
  {
   "cell_type": "code",
   "execution_count": 44,
   "metadata": {},
   "outputs": [
    {
     "name": "stdout",
     "output_type": "stream",
     "text": [
      "[390, 100, 40, 10, 5]\n",
      "second largest numebr in the list: 100\n"
     ]
    }
   ],
   "source": [
    "#5.\tWrite a Python program to find second largest number in a list?\n",
    "def small(n):\n",
    "    s = l[0]\n",
    "    for i in range(len(l)):\n",
    "        for j in range(len(l)):\n",
    "            if(l[i]>l[j]):\n",
    "                temp = l[i]\n",
    "                l[i] = l[j]\n",
    "                l[j] = temp\n",
    "    return l\n",
    "l = [10,100,390,40,5] \n",
    "result = small(l)\n",
    "print(result)\n",
    "print(\"second largest numebr in the list:\",l[1])"
   ]
  },
  {
   "cell_type": "code",
   "execution_count": 46,
   "metadata": {},
   "outputs": [
    {
     "name": "stdout",
     "output_type": "stream",
     "text": [
      "The number is odd 1\n",
      "The number is odd 5\n"
     ]
    }
   ],
   "source": [
    "#7.\tWrite a Python program to print even numbers in a list?\n",
    "l = [10,1,390,40,5] \n",
    "for i in range(len(l)):\n",
    "    if(l[i]%2!=0):\n",
    "        print(\"The number is odd\",l[i])"
   ]
  },
  {
   "cell_type": "code",
   "execution_count": 47,
   "metadata": {},
   "outputs": [
    {
     "name": "stdout",
     "output_type": "stream",
     "text": [
      "The number is even 10\n",
      "The number is even 390\n",
      "The number is even 40\n"
     ]
    }
   ],
   "source": [
    "#8.\tWrite a Python program to print odd numbers in a List?\n",
    "l = [10,1,390,40,5] \n",
    "for i in range(len(l)):\n",
    "    if(l[i]%2==0):\n",
    "        print(\"The number is even\",l[i])"
   ]
  },
  {
   "cell_type": "code",
   "execution_count": 53,
   "metadata": {},
   "outputs": [
    {
     "name": "stdout",
     "output_type": "stream",
     "text": [
      "original list [[1, 2], [], [1, 4, 5], []]\n",
      "The final output after renoved empty list [[1, 2], [1, 4, 5]]\n"
     ]
    }
   ],
   "source": [
    "#9.\tWrite a Python program to Remove empty List from List?\n",
    "l = [[1,2],[],[1,4,5],[]]\n",
    "p=[]\n",
    "print(\"original list\",l)\n",
    "type(l)\n",
    "for i in range(len(l)):\n",
    "    if(l[i] == []):\n",
    "        continue\n",
    "    else:\n",
    "        p.append(l[i])\n",
    "print(\"The final output after renoved empty list\",p)  "
   ]
  },
  {
   "cell_type": "code",
   "execution_count": 55,
   "metadata": {},
   "outputs": [
    {
     "name": "stdout",
     "output_type": "stream",
     "text": [
      "Original List: [4, 8, 2, 10, 15, 18]\n",
      "After Cloning: [4, 8, 2, 10, 15, 18]\n"
     ]
    }
   ],
   "source": [
    "#10.\tWrite a Python program to Cloning or Copying a list?\n",
    "def Cloning(li1):\n",
    "    li_copy = li1[:]\n",
    "    return li_copy\n",
    "li1 = [4, 8, 2, 10, 15, 18]\n",
    "li2 = Cloning(li1)\n",
    "print(\"Original List:\", li1)\n",
    "print(\"After Cloning:\", li2)"
   ]
  },
  {
   "cell_type": "code",
   "execution_count": 1,
   "metadata": {},
   "outputs": [
    {
     "name": "stdout",
     "output_type": "stream",
     "text": [
      "Given list:\n",
      " ['Mon', 'Wed', 'Mon', 'Tue', 'Thu']\n",
      "Given element:\n",
      " Mon\n",
      "Number of times the element is present in list:\n",
      " 2\n"
     ]
    }
   ],
   "source": [
    "#11.\tWrite a Python program to Count occurrences of an element in a list?\n",
    "Alist = ['Mon', 'Wed', 'Mon', 'Tue', 'Thu']\n",
    "elem = 'Mon'\n",
    "# Given list and element\n",
    "print(\"Given list:\\n\", Alist)\n",
    "print(\"Given element:\\n\",elem)\n",
    "cnt = Alist.count('Mon')\n",
    "print(\"Number of times the element is present in list:\\n\",cnt)\n",
    "\n"
   ]
  },
  {
   "cell_type": "code",
   "execution_count": 17,
   "metadata": {},
   "outputs": [
    {
     "name": "stdout",
     "output_type": "stream",
     "text": [
      "[999, 221, 93]\n"
     ]
    }
   ],
   "source": [
    "#6.\tWrite a Python program to find N largest elements from a list?\n",
    "# Python program to find N largest\n",
    "# element from given list of integers\n",
    "\n",
    "# Function returns N largest elements\n",
    "def maxlist(l,N):\n",
    "    \n",
    "    final_list = []\n",
    "    \n",
    "    for j in range(0,N):\n",
    "        max1 = 0\n",
    "        for i in range(len(l)):\n",
    "            if(max1<l[i]):\n",
    "                max1 = l[i]\n",
    "        l.remove(max1)\n",
    "        final_list.append(max1)\n",
    "    print(final_list)\n",
    "\n",
    "l = [20,34,221,54,999,93]\n",
    "N = 3\n",
    "maxlist(l,N)"
   ]
  },
  {
   "cell_type": "code",
   "execution_count": null,
   "metadata": {},
   "outputs": [],
   "source": []
  }
 ],
 "metadata": {
  "kernelspec": {
   "display_name": "Python 3",
   "language": "python",
   "name": "python3"
  },
  "language_info": {
   "codemirror_mode": {
    "name": "ipython",
    "version": 3
   },
   "file_extension": ".py",
   "mimetype": "text/x-python",
   "name": "python",
   "nbconvert_exporter": "python",
   "pygments_lexer": "ipython3",
   "version": "3.8.5"
  }
 },
 "nbformat": 4,
 "nbformat_minor": 4
}
